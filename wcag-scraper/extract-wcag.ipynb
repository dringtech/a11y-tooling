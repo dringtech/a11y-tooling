{
 "cells": [
  {
   "cell_type": "code",
   "execution_count": 4,
   "metadata": {},
   "outputs": [],
   "source": [
    "import re\n",
    "import requests\n",
    "import json\n",
    "import re\n",
    "\n",
    "from bs4 import BeautifulSoup"
   ]
  },
  {
   "cell_type": "code",
   "execution_count": 5,
   "metadata": {},
   "outputs": [],
   "source": [
    "class WCAG_base(object):\n",
    "    _private = []\n",
    "\n",
    "    def as_dict(self):\n",
    "        safe_dict = {\n",
    "            k: self.__dict__[k]\n",
    "            for k\n",
    "            in self.__dict__ if k not in self._private + ['_private']\n",
    "        }\n",
    "        return safe_dict\n",
    "\n",
    "    def __repr__(self):\n",
    "        return json.dumps(self.as_dict())\n",
    "  \n",
    "\n",
    "class WCAG(WCAG_base):\n",
    "    _private = ['_soup']\n",
    "\n",
    "    def __init__(self, url):\n",
    "        r = requests.get(url)\n",
    "        self._soup = BeautifulSoup(r.text, 'html.parser')        \n",
    "        self.principles=[Principle(p).as_dict() for p in self._soup.body.find_all('section', class_='principle')]\n",
    "        \n",
    "    def to_json(self, filename):\n",
    "        with open(filename, 'w') as f:\n",
    "            json.dump(self.as_dict(), f, indent=2)\n",
    "\n",
    "class WCAGElement(WCAG_base):\n",
    "    _private = ['_soup']\n",
    "\n",
    "    def __init__(self, soup, title_element):\n",
    "        self._soup = soup\n",
    "        self.id = self._soup['id']\n",
    "        label = self._soup.find(class_='secno').text\n",
    "        self.label = re.sub(r'[\\.\\s]+$', '', label)\n",
    "        self.title = self._soup.find(\n",
    "            title_element).text.replace(label, '').strip()\n",
    "        self.description = re.sub(\n",
    "            r'\\s+', ' ', string=self._soup.p.text).strip()\n",
    "\n",
    "\n",
    "class Principle(WCAGElement):\n",
    "    def __init__(self, soup):\n",
    "        super().__init__(soup, 'h2')\n",
    "        guidelines = self._soup.find_all(\n",
    "            'section', class_=\"guideline\", recursive=False)\n",
    "        self.guidelines = [Guideline(g).as_dict() for g in guidelines]\n",
    "\n",
    "\n",
    "class Guideline(WCAGElement):\n",
    "    def __init__(self, soup):\n",
    "        super().__init__(soup, 'h3')\n",
    "        criteria = self._soup.find_all(\n",
    "            'section', class_=\"guideline\", recursive=False)\n",
    "        self.criteria = [Criterion(c).as_dict() for c in criteria]\n",
    "\n",
    "\n",
    "class Criterion(WCAGElement):\n",
    "    def __init__(self, soup):\n",
    "        super().__init__(soup, 'h4')\n",
    "        try:\n",
    "            self.level = re.sub(pattern=r'^.*?(A+).*$',\n",
    "                                repl='\\g<1>',\n",
    "                                string=self._soup.find(\n",
    "                                    'p', class_=\"conformance-level\").text\n",
    "                                )\n",
    "        except:\n",
    "            print(f\"{self.title} has no level\")\n",
    "\n",
    "        self.description = re.sub(r'\\s+', ' ', string=self._soup.find('p', class_=\"\").text).strip()"
   ]
  },
  {
   "cell_type": "code",
   "execution_count": 7,
   "metadata": {},
   "outputs": [
    {
     "name": "stdout",
     "output_type": "stream",
     "text": [
      "Parsing (Obsolete and removed) has no level\n"
     ]
    }
   ],
   "source": [
    "WCAG('https://www.w3.org/TR/WCAG21/').to_json('wcag21.json')\n",
    "WCAG('https://www.w3.org/TR/WCAG22/').to_json('wcag22.json')\n",
    "\n"
   ]
  },
  {
   "cell_type": "code",
   "execution_count": 203,
   "metadata": {},
   "outputs": [
    {
     "data": {
      "text/html": [
       "<div>\n",
       "<style scoped>\n",
       "    .dataframe tbody tr th:only-of-type {\n",
       "        vertical-align: middle;\n",
       "    }\n",
       "\n",
       "    .dataframe tbody tr th {\n",
       "        vertical-align: top;\n",
       "    }\n",
       "\n",
       "    .dataframe thead th {\n",
       "        text-align: right;\n",
       "    }\n",
       "</style>\n",
       "<table border=\"1\" class=\"dataframe\">\n",
       "  <thead>\n",
       "    <tr style=\"text-align: right;\">\n",
       "      <th></th>\n",
       "      <th>principles</th>\n",
       "    </tr>\n",
       "  </thead>\n",
       "  <tbody>\n",
       "    <tr>\n",
       "      <th>0</th>\n",
       "      <td>{'id': 'perceivable', 'label': '1', 'title': '...</td>\n",
       "    </tr>\n",
       "    <tr>\n",
       "      <th>1</th>\n",
       "      <td>{'id': 'operable', 'label': '2', 'title': 'Ope...</td>\n",
       "    </tr>\n",
       "    <tr>\n",
       "      <th>2</th>\n",
       "      <td>{'id': 'understandable', 'label': '3', 'title'...</td>\n",
       "    </tr>\n",
       "    <tr>\n",
       "      <th>3</th>\n",
       "      <td>{'id': 'robust', 'label': '4', 'title': 'Robus...</td>\n",
       "    </tr>\n",
       "  </tbody>\n",
       "</table>\n",
       "</div>"
      ],
      "text/plain": [
       "                                          principles\n",
       "0  {'id': 'perceivable', 'label': '1', 'title': '...\n",
       "1  {'id': 'operable', 'label': '2', 'title': 'Ope...\n",
       "2  {'id': 'understandable', 'label': '3', 'title'...\n",
       "3  {'id': 'robust', 'label': '4', 'title': 'Robus..."
      ]
     },
     "execution_count": 203,
     "metadata": {},
     "output_type": "execute_result"
    }
   ],
   "source": []
  },
  {
   "cell_type": "code",
   "execution_count": null,
   "metadata": {},
   "outputs": [],
   "source": []
  }
 ],
 "metadata": {
  "kernelspec": {
   "display_name": "wcag-checklist-xxzCJRI9",
   "language": "python",
   "name": "python3"
  },
  "language_info": {
   "codemirror_mode": {
    "name": "ipython",
    "version": 3
   },
   "file_extension": ".py",
   "mimetype": "text/x-python",
   "name": "python",
   "nbconvert_exporter": "python",
   "pygments_lexer": "ipython3",
   "version": "3.10.12"
  },
  "orig_nbformat": 4
 },
 "nbformat": 4,
 "nbformat_minor": 2
}
